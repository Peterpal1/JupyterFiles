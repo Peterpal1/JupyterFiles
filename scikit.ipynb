{
 "cells": [
  {
   "cell_type": "code",
   "execution_count": 1,
   "id": "41b8150d",
   "metadata": {},
   "outputs": [
    {
     "data": {
      "text/html": [
       "<div>\n",
       "<style scoped>\n",
       "    .dataframe tbody tr th:only-of-type {\n",
       "        vertical-align: middle;\n",
       "    }\n",
       "\n",
       "    .dataframe tbody tr th {\n",
       "        vertical-align: top;\n",
       "    }\n",
       "\n",
       "    .dataframe thead th {\n",
       "        text-align: right;\n",
       "    }\n",
       "</style>\n",
       "<table border=\"1\" class=\"dataframe\">\n",
       "  <thead>\n",
       "    <tr style=\"text-align: right;\">\n",
       "      <th></th>\n",
       "      <th>year</th>\n",
       "      <th>students</th>\n",
       "      <th>us_students</th>\n",
       "      <th>undergraduate</th>\n",
       "      <th>graduate</th>\n",
       "      <th>non_degree</th>\n",
       "      <th>opt</th>\n",
       "    </tr>\n",
       "  </thead>\n",
       "  <tbody>\n",
       "    <tr>\n",
       "      <th>0</th>\n",
       "      <td>1948/49</td>\n",
       "      <td>25464</td>\n",
       "      <td>2403400.0</td>\n",
       "      <td>NaN</td>\n",
       "      <td>NaN</td>\n",
       "      <td>NaN</td>\n",
       "      <td>NaN</td>\n",
       "    </tr>\n",
       "    <tr>\n",
       "      <th>1</th>\n",
       "      <td>1949/50</td>\n",
       "      <td>26433</td>\n",
       "      <td>2445000.0</td>\n",
       "      <td>NaN</td>\n",
       "      <td>NaN</td>\n",
       "      <td>NaN</td>\n",
       "      <td>NaN</td>\n",
       "    </tr>\n",
       "    <tr>\n",
       "      <th>2</th>\n",
       "      <td>1950/51</td>\n",
       "      <td>29813</td>\n",
       "      <td>2281000.0</td>\n",
       "      <td>NaN</td>\n",
       "      <td>NaN</td>\n",
       "      <td>NaN</td>\n",
       "      <td>NaN</td>\n",
       "    </tr>\n",
       "    <tr>\n",
       "      <th>3</th>\n",
       "      <td>1951/52</td>\n",
       "      <td>30462</td>\n",
       "      <td>2102000.0</td>\n",
       "      <td>NaN</td>\n",
       "      <td>NaN</td>\n",
       "      <td>NaN</td>\n",
       "      <td>NaN</td>\n",
       "    </tr>\n",
       "    <tr>\n",
       "      <th>4</th>\n",
       "      <td>1952/53</td>\n",
       "      <td>33675</td>\n",
       "      <td>2134000.0</td>\n",
       "      <td>NaN</td>\n",
       "      <td>NaN</td>\n",
       "      <td>NaN</td>\n",
       "      <td>NaN</td>\n",
       "    </tr>\n",
       "    <tr>\n",
       "      <th>...</th>\n",
       "      <td>...</td>\n",
       "      <td>...</td>\n",
       "      <td>...</td>\n",
       "      <td>...</td>\n",
       "      <td>...</td>\n",
       "      <td>...</td>\n",
       "      <td>...</td>\n",
       "    </tr>\n",
       "    <tr>\n",
       "      <th>70</th>\n",
       "      <td>2018/19</td>\n",
       "      <td>1095299</td>\n",
       "      <td>19828000.0</td>\n",
       "      <td>431930.0</td>\n",
       "      <td>377943.0</td>\n",
       "      <td>62341.0</td>\n",
       "      <td>223085.0</td>\n",
       "    </tr>\n",
       "    <tr>\n",
       "      <th>71</th>\n",
       "      <td>2019/20</td>\n",
       "      <td>1075496</td>\n",
       "      <td>19720000.0</td>\n",
       "      <td>419321.0</td>\n",
       "      <td>374435.0</td>\n",
       "      <td>58201.0</td>\n",
       "      <td>223539.0</td>\n",
       "    </tr>\n",
       "    <tr>\n",
       "      <th>72</th>\n",
       "      <td>2020/21</td>\n",
       "      <td>914095</td>\n",
       "      <td>19744000.0</td>\n",
       "      <td>359787.0</td>\n",
       "      <td>329272.0</td>\n",
       "      <td>21151.0</td>\n",
       "      <td>203885.0</td>\n",
       "    </tr>\n",
       "    <tr>\n",
       "      <th>73</th>\n",
       "      <td>2021/22</td>\n",
       "      <td>948519</td>\n",
       "      <td>20327000.0</td>\n",
       "      <td>344532.0</td>\n",
       "      <td>385097.0</td>\n",
       "      <td>34131.0</td>\n",
       "      <td>184759.0</td>\n",
       "    </tr>\n",
       "    <tr>\n",
       "      <th>74</th>\n",
       "      <td>2022/23</td>\n",
       "      <td>1057188</td>\n",
       "      <td>18961280.0</td>\n",
       "      <td>347602.0</td>\n",
       "      <td>467027.0</td>\n",
       "      <td>43766.0</td>\n",
       "      <td>198793.0</td>\n",
       "    </tr>\n",
       "  </tbody>\n",
       "</table>\n",
       "<p>75 rows × 7 columns</p>\n",
       "</div>"
      ],
      "text/plain": [
       "       year  students  us_students  undergraduate  graduate  non_degree  \\\n",
       "0   1948/49     25464    2403400.0            NaN       NaN         NaN   \n",
       "1   1949/50     26433    2445000.0            NaN       NaN         NaN   \n",
       "2   1950/51     29813    2281000.0            NaN       NaN         NaN   \n",
       "3   1951/52     30462    2102000.0            NaN       NaN         NaN   \n",
       "4   1952/53     33675    2134000.0            NaN       NaN         NaN   \n",
       "..      ...       ...          ...            ...       ...         ...   \n",
       "70  2018/19   1095299   19828000.0       431930.0  377943.0     62341.0   \n",
       "71  2019/20   1075496   19720000.0       419321.0  374435.0     58201.0   \n",
       "72  2020/21    914095   19744000.0       359787.0  329272.0     21151.0   \n",
       "73  2021/22    948519   20327000.0       344532.0  385097.0     34131.0   \n",
       "74  2022/23   1057188   18961280.0       347602.0  467027.0     43766.0   \n",
       "\n",
       "         opt  \n",
       "0        NaN  \n",
       "1        NaN  \n",
       "2        NaN  \n",
       "3        NaN  \n",
       "4        NaN  \n",
       "..       ...  \n",
       "70  223085.0  \n",
       "71  223539.0  \n",
       "72  203885.0  \n",
       "73  184759.0  \n",
       "74  198793.0  \n",
       "\n",
       "[75 rows x 7 columns]"
      ]
     },
     "execution_count": 1,
     "metadata": {},
     "output_type": "execute_result"
    }
   ],
   "source": [
    "import pandas as pd\n",
    "data = pd.read_csv('academic.csv')\n",
    "data"
   ]
  },
  {
   "cell_type": "code",
   "execution_count": null,
   "id": "79f3a36a",
   "metadata": {},
   "outputs": [],
   "source": [
    "data.head()"
   ]
  },
  {
   "cell_type": "code",
   "execution_count": null,
   "id": "e0a7dafb",
   "metadata": {},
   "outputs": [],
   "source": [
    "clean_data = data.dropna()"
   ]
  },
  {
   "cell_type": "code",
   "execution_count": null,
   "id": "81da6b0b",
   "metadata": {},
   "outputs": [],
   "source": [
    "clean_data"
   ]
  },
  {
   "cell_type": "code",
   "execution_count": null,
   "id": "c4c56aa2",
   "metadata": {},
   "outputs": [],
   "source": [
    "clean_data.shape"
   ]
  },
  {
   "cell_type": "code",
   "execution_count": null,
   "id": "7f68003b",
   "metadata": {},
   "outputs": [],
   "source": [
    "clean_data.info"
   ]
  },
  {
   "cell_type": "code",
   "execution_count": null,
   "id": "cb6bb0ca",
   "metadata": {},
   "outputs": [],
   "source": [
    "clean_data.describe()"
   ]
  },
  {
   "cell_type": "code",
   "execution_count": null,
   "id": "b03800a5",
   "metadata": {},
   "outputs": [],
   "source": [
    "clean_data.isna().sum()"
   ]
  },
  {
   "cell_type": "code",
   "execution_count": null,
   "id": "5c9e3fb0",
   "metadata": {},
   "outputs": [],
   "source": [
    "caliH = pd.read_csv('housing.csv')\n",
    "caliH.head()"
   ]
  },
  {
   "cell_type": "code",
   "execution_count": null,
   "id": "792c8e89",
   "metadata": {},
   "outputs": [],
   "source": [
    "test = pd.read_csv('test.csv')\n",
    "train = pd.read_csv('train.csv')"
   ]
  },
  {
   "cell_type": "code",
   "execution_count": null,
   "id": "cfb10b5b",
   "metadata": {},
   "outputs": [],
   "source": [
    "import sklearn as sk\n",
    "from sklearn.datasets import fetch_california_housing"
   ]
  },
  {
   "cell_type": "code",
   "execution_count": null,
   "id": "372e7627",
   "metadata": {},
   "outputs": [],
   "source": [
    "housing_data = fetch_california_housing()"
   ]
  },
  {
   "cell_type": "code",
   "execution_count": null,
   "id": "ceb5707a",
   "metadata": {},
   "outputs": [],
   "source": []
  }
 ],
 "metadata": {
  "kernelspec": {
   "display_name": "Python 3 (ipykernel)",
   "language": "python",
   "name": "python3"
  },
  "language_info": {
   "codemirror_mode": {
    "name": "ipython",
    "version": 3
   },
   "file_extension": ".py",
   "mimetype": "text/x-python",
   "name": "python",
   "nbconvert_exporter": "python",
   "pygments_lexer": "ipython3",
   "version": "3.12.1"
  }
 },
 "nbformat": 4,
 "nbformat_minor": 5
}
